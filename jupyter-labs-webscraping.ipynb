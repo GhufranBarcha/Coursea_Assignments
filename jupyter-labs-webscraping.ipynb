{
 "cells": [
  {
   "cell_type": "markdown",
   "metadata": {},
   "source": [
    "<p style=\"text-align:center\">\n",
    "    <a href=\"https://skills.network\" target=\"_blank\">\n",
    "    <img src=\"https://cf-courses-data.s3.us.cloud-object-storage.appdomain.cloud/assets/logos/SN_web_lightmode.png\" width=\"200\" alt=\"Skills Network Logo\">\n",
    "    </a>\n",
    "</p>\n"
   ]
  },
  {
   "cell_type": "markdown",
   "metadata": {},
   "source": [
    "# **Space X  Falcon 9 First Stage Landing Prediction**\n"
   ]
  },
  {
   "cell_type": "markdown",
   "metadata": {},
   "source": [
    "## Web scraping Falcon 9 and Falcon Heavy Launches Records from Wikipedia\n"
   ]
  },
  {
   "cell_type": "markdown",
   "metadata": {},
   "source": [
    "Estimated time needed: **40** minutes\n"
   ]
  },
  {
   "cell_type": "markdown",
   "metadata": {},
   "source": [
    "In this lab, you will be performing web scraping to collect Falcon 9 historical launch records from a Wikipedia page titled `List of Falcon 9 and Falcon Heavy launches`\n",
    "\n",
    "https://en.wikipedia.org/wiki/List_of_Falcon_9_and_Falcon_Heavy_launches\n"
   ]
  },
  {
   "cell_type": "markdown",
   "metadata": {},
   "source": [
    "![](https://cf-courses-data.s3.us.cloud-object-storage.appdomain.cloud/IBM-DS0321EN-SkillsNetwork/labs/module_1_L2/images/Falcon9_rocket_family.svg)\n"
   ]
  },
  {
   "cell_type": "markdown",
   "metadata": {},
   "source": [
    "Falcon 9 first stage will land successfully\n"
   ]
  },
  {
   "cell_type": "markdown",
   "metadata": {},
   "source": [
    "![](https://cf-courses-data.s3.us.cloud-object-storage.appdomain.cloud/IBMDeveloperSkillsNetwork-DS0701EN-SkillsNetwork/api/Images/landing_1.gif)\n"
   ]
  },
  {
   "cell_type": "markdown",
   "metadata": {},
   "source": [
    "Several examples of an unsuccessful landing are shown here:\n"
   ]
  },
  {
   "cell_type": "markdown",
   "metadata": {},
   "source": [
    "![](https://cf-courses-data.s3.us.cloud-object-storage.appdomain.cloud/IBMDeveloperSkillsNetwork-DS0701EN-SkillsNetwork/api/Images/crash.gif)\n"
   ]
  },
  {
   "cell_type": "markdown",
   "metadata": {},
   "source": [
    "More specifically, the launch records are stored in a HTML table shown below:\n"
   ]
  },
  {
   "cell_type": "markdown",
   "metadata": {},
   "source": [
    "![](https://cf-courses-data.s3.us.cloud-object-storage.appdomain.cloud/IBM-DS0321EN-SkillsNetwork/labs/module_1_L2/images/falcon9-launches-wiki.png)\n"
   ]
  },
  {
   "cell_type": "markdown",
   "metadata": {},
   "source": [
    "  ## Objectives\n",
    "Web scrap Falcon 9 launch records with `BeautifulSoup`: \n",
    "- Extract a Falcon 9 launch records HTML table from Wikipedia\n",
    "- Parse the table and convert it into a Pandas data frame\n"
   ]
  },
  {
   "cell_type": "markdown",
   "metadata": {},
   "source": [
    "First let's import required packages for this lab\n"
   ]
  },
  {
   "cell_type": "code",
   "execution_count": null,
   "metadata": {},
   "outputs": [],
   "source": [
    "!pip3 install beautifulsoup4\n",
    "!pip3 install requests"
   ]
  },
  {
   "cell_type": "code",
   "execution_count": 1,
   "metadata": {
    "tags": []
   },
   "outputs": [],
   "source": [
    "import sys\n",
    "\n",
    "import requests\n",
    "from bs4 import BeautifulSoup\n",
    "import re\n",
    "import unicodedata\n",
    "import pandas as pd"
   ]
  },
  {
   "cell_type": "markdown",
   "metadata": {},
   "source": [
    "and we will provide some helper functions for you to process web scraped HTML table\n"
   ]
  },
  {
   "cell_type": "code",
   "execution_count": 2,
   "metadata": {
    "tags": []
   },
   "outputs": [],
   "source": [
    "def date_time(table_cells):\n",
    "    \"\"\"\n",
    "    This function returns the data and time from the HTML  table cell\n",
    "    Input: the  element of a table data cell extracts extra row\n",
    "    \"\"\"\n",
    "    return [data_time.strip() for data_time in list(table_cells.strings)][0:2]\n",
    "\n",
    "def booster_version(table_cells):\n",
    "    \"\"\"\n",
    "    This function returns the booster version from the HTML  table cell \n",
    "    Input: the  element of a table data cell extracts extra row\n",
    "    \"\"\"\n",
    "    out=''.join([booster_version for i,booster_version in enumerate( table_cells.strings) if i%2==0][0:-1])\n",
    "    return out\n",
    "\n",
    "def landing_status(table_cells):\n",
    "    \"\"\"\n",
    "    This function returns the landing status from the HTML table cell \n",
    "    Input: the  element of a table data cell extracts extra row\n",
    "    \"\"\"\n",
    "    out=[i for i in table_cells.strings][0]\n",
    "    return out\n",
    "\n",
    "\n",
    "def get_mass(table_cells):\n",
    "    mass=unicodedata.normalize(\"NFKD\", table_cells.text).strip()\n",
    "    if mass:\n",
    "        mass.find(\"kg\")\n",
    "        new_mass=mass[0:mass.find(\"kg\")+2]\n",
    "    else:\n",
    "        new_mass=0\n",
    "    return new_mass\n",
    "\n",
    "\n",
    "def extract_column_from_header(row):\n",
    "    \"\"\"\n",
    "    This function returns the landing status from the HTML table cell \n",
    "    Input: the  element of a table data cell extracts extra row\n",
    "    \"\"\"\n",
    "    if (row.br):\n",
    "        row.br.extract()\n",
    "    if row.a:\n",
    "        row.a.extract()\n",
    "    if row.sup:\n",
    "        row.sup.extract()\n",
    "        \n",
    "    colunm_name = ' '.join(row.contents)\n",
    "    \n",
    "    # Filter the digit and empty names\n",
    "    if not(colunm_name.strip().isdigit()):\n",
    "        colunm_name = colunm_name.strip()\n",
    "        return colunm_name    \n"
   ]
  },
  {
   "cell_type": "markdown",
   "metadata": {},
   "source": [
    "To keep the lab tasks consistent, you will be asked to scrape the data from a snapshot of the  `List of Falcon 9 and Falcon Heavy launches` Wikipage updated on\n",
    "`9th June 2021`\n"
   ]
  },
  {
   "cell_type": "code",
   "execution_count": 3,
   "metadata": {
    "tags": []
   },
   "outputs": [],
   "source": [
    "static_url = \"https://en.wikipedia.org/w/index.php?title=List_of_Falcon_9_and_Falcon_Heavy_launches&oldid=1027686922\""
   ]
  },
  {
   "cell_type": "markdown",
   "metadata": {},
   "source": [
    "Next, request the HTML page from the above URL and get a `response` object\n"
   ]
  },
  {
   "cell_type": "markdown",
   "metadata": {},
   "source": [
    "### TASK 1: Request the Falcon9 Launch Wiki page from its URL\n"
   ]
  },
  {
   "cell_type": "markdown",
   "metadata": {},
   "source": [
    "First, let's perform an HTTP GET method to request the Falcon9 Launch HTML page, as an HTTP response.\n"
   ]
  },
  {
   "cell_type": "code",
   "execution_count": 5,
   "metadata": {
    "tags": []
   },
   "outputs": [],
   "source": [
    "# use requests.get() method with the provided static_url\n",
    "data = requests.get(static_url)\n",
    "# assign the response to a object"
   ]
  },
  {
   "cell_type": "markdown",
   "metadata": {},
   "source": [
    "Create a `BeautifulSoup` object from the HTML `response`\n"
   ]
  },
  {
   "cell_type": "code",
   "execution_count": 10,
   "metadata": {
    "tags": []
   },
   "outputs": [],
   "source": [
    "# Use BeautifulSoup() to create a BeautifulSoup object from a response text content\n",
    "soup = BeautifulSoup(data.content ,\"html.parser\")"
   ]
  },
  {
   "cell_type": "markdown",
   "metadata": {},
   "source": [
    "Print the page title to verify if the `BeautifulSoup` object was created properly \n"
   ]
  },
  {
   "cell_type": "code",
   "execution_count": 11,
   "metadata": {
    "tags": []
   },
   "outputs": [
    {
     "data": {
      "text/plain": [
       "<title>List of Falcon 9 and Falcon Heavy launches - Wikipedia</title>"
      ]
     },
     "execution_count": 11,
     "metadata": {},
     "output_type": "execute_result"
    }
   ],
   "source": [
    "# Use soup.title attribute\n",
    "soup.title"
   ]
  },
  {
   "cell_type": "markdown",
   "metadata": {},
   "source": [
    "### TASK 2: Extract all column/variable names from the HTML table header\n"
   ]
  },
  {
   "cell_type": "markdown",
   "metadata": {},
   "source": [
    "Next, we want to collect all relevant column names from the HTML table header\n"
   ]
  },
  {
   "cell_type": "markdown",
   "metadata": {},
   "source": [
    "Let's try to find all tables on the wiki page first. If you need to refresh your memory about `BeautifulSoup`, please check the external reference link towards the end of this lab\n"
   ]
  },
  {
   "cell_type": "code",
   "execution_count": 12,
   "metadata": {
    "tags": []
   },
   "outputs": [
    {
     "name": "stdout",
     "output_type": "stream",
     "text": [
      "['Date andtime (UTC)', 'Version,Booster[b]', 'Launch site', 'Payload[c]', 'Payload mass', 'Orbit', 'Customer', 'Launchoutcome', 'Boosterlanding', '14', '15', '16', '17', '18', '19', '20']\n"
     ]
    }
   ],
   "source": [
    "# Find all tables on the wiki page\n",
    "html_tables = soup.find_all(\"table\", class_=\"wikitable plainrowheaders collapsible\")\n",
    "\n",
    "# Start from the third table, which is the table that contains the launch records\n",
    "first_launch_table = html_tables[2]\n",
    "\n",
    "# Extract all column names from the table header\n",
    "column_names = []\n",
    "for th in first_launch_table.find_all(\"th\"):\n",
    "    name = th.text.strip()\n",
    "    if name is not None and len(name) > 0:\n",
    "        column_names.append(name)\n",
    "\n",
    "# Remove an irrelevant column\n",
    "del column_names[0]\n",
    "\n",
    "# Print the extracted column names\n",
    "print(column_names)\n"
   ]
  },
  {
   "cell_type": "markdown",
   "metadata": {},
   "source": [
    "Starting from the third table is our target table contains the actual launch records.\n"
   ]
  },
  {
   "cell_type": "code",
   "execution_count": 13,
   "metadata": {
    "tags": []
   },
   "outputs": [
    {
     "name": "stdout",
     "output_type": "stream",
     "text": [
      "<table class=\"wikitable plainrowheaders collapsible\" style=\"width: 100%;\">\n",
      "<tbody><tr>\n",
      "<th scope=\"col\">Flight No.\n",
      "</th>\n",
      "<th scope=\"col\">Date and<br/>time (<a href=\"/wiki/Coordinated_Universal_Time\" title=\"Coordinated Universal Time\">UTC</a>)\n",
      "</th>\n",
      "<th scope=\"col\"><a href=\"/wiki/List_of_Falcon_9_first-stage_boosters\" title=\"List of Falcon 9 first-stage boosters\">Version,<br/>Booster</a><sup class=\"reference\" id=\"cite_ref-booster_11-2\"><a href=\"#cite_note-booster-11\">[b]</a></sup>\n",
      "</th>\n",
      "<th scope=\"col\">Launch site\n",
      "</th>\n",
      "<th scope=\"col\">Payload<sup class=\"reference\" id=\"cite_ref-Dragon_12-2\"><a href=\"#cite_note-Dragon-12\">[c]</a></sup>\n",
      "</th>\n",
      "<th scope=\"col\">Payload mass\n",
      "</th>\n",
      "<th scope=\"col\">Orbit\n",
      "</th>\n",
      "<th scope=\"col\">Customer\n",
      "</th>\n",
      "<th scope=\"col\">Launch<br/>outcome\n",
      "</th>\n",
      "<th scope=\"col\"><a href=\"/wiki/Falcon_9_first-stage_landing_tests\" title=\"Falcon 9 first-stage landing tests\">Booster<br/>landing</a>\n",
      "</th></tr>\n",
      "<tr>\n",
      "<th rowspan=\"2\" scope=\"row\" style=\"text-align:center;\">14\n",
      "</th>\n",
      "<td>10 January 2015,<br/>09:47<sup class=\"reference\" id=\"cite_ref-nasa20150107_74-0\"><a href=\"#cite_note-nasa20150107-74\">[67]</a></sup>\n",
      "</td>\n",
      "<td><a href=\"/wiki/Falcon_9_v1.1\" title=\"Falcon 9 v1.1\">F9 v1.1</a><br/>B1012<sup class=\"reference\" id=\"cite_ref-block_numbers_14-8\"><a href=\"#cite_note-block_numbers-14\">[8]</a></sup>\n",
      "</td>\n",
      "<td><a href=\"/wiki/Cape_Canaveral_Space_Force_Station\" title=\"Cape Canaveral Space Force Station\">Cape Canaveral</a>,<br/><a href=\"/wiki/Cape_Canaveral_Space_Launch_Complex_40\" title=\"Cape Canaveral Space Launch Complex 40\">LC-40</a>\n",
      "</td>\n",
      "<td><a href=\"/wiki/SpaceX_CRS-5\" title=\"SpaceX CRS-5\">SpaceX CRS-5</a><sup class=\"reference\" id=\"cite_ref-sxManifest20130731_75-0\"><a href=\"#cite_note-sxManifest20130731-75\">[68]</a></sup><br/>(Dragon C107)\n",
      "</td>\n",
      "<td>2,395 kg (5,280 lb)<sup class=\"reference\" id=\"cite_ref-76\"><a href=\"#cite_note-76\">[69]</a></sup>\n",
      "</td>\n",
      "<td><a class=\"mw-redirect\" href=\"/wiki/Low_Earth_Orbit\" title=\"Low Earth Orbit\">LEO</a> (<a class=\"mw-redirect\" href=\"/wiki/ISS\" title=\"ISS\">ISS</a>)\n",
      "</td>\n",
      "<td><a href=\"/wiki/NASA\" title=\"NASA\">NASA</a> (<a href=\"/wiki/Commercial_Resupply_Services\" title=\"Commercial Resupply Services\">CRS</a>)\n",
      "</td>\n",
      "<td class=\"table-success\" style=\"background: #9EFF9E; vertical-align: middle; text-align: center;\">Success<sup class=\"reference\" id=\"cite_ref-nasacrs520150110_77-0\"><a href=\"#cite_note-nasacrs520150110-77\">[70]</a></sup>\n",
      "</td>\n",
      "<td class=\"table-failure\" style=\"background: #FFC7C7; vertical-align: middle; text-align: center;\">Failure <small><span class=\"nowrap\">(drone ship)</span></small>\n",
      "</td></tr>\n",
      "<tr>\n",
      "<td colspan=\"9\">Following second-stage separation, SpaceX attempted to <a href=\"/wiki/Falcon_9_first-stage_landing_tests\" title=\"Falcon 9 first-stage landing tests\">return</a> the first stage for the first time to a 90 m × 50 m (300 ft × 160 ft) <a class=\"mw-redirect\" href=\"/wiki/Floating_landing_platform\" title=\"Floating landing platform\">floating platform</a> — called the <a href=\"/wiki/Autonomous_spaceport_drone_ship\" title=\"Autonomous spaceport drone ship\">autonomous spaceport drone ship</a>. The test achieved many objectives and returned a large amount of data, but the <a href=\"/wiki/Grid_fin\" title=\"Grid fin\">grid-fin</a> control surfaces used for the first time for more precise reentry positioning ran out of hydraulic fluid for its control system a minute before landing, resulting in a landing crash.<sup class=\"reference\" id=\"cite_ref-sfn20150110_78-0\"><a href=\"#cite_note-sfn20150110-78\">[71]</a></sup>\n",
      "</td></tr>\n",
      "<tr>\n",
      "<th rowspan=\"2\" scope=\"row\" style=\"text-align:center;\">15\n",
      "</th>\n",
      "<td>11 February 2015,<br/>23:03<sup class=\"reference\" id=\"cite_ref-79\"><a href=\"#cite_note-79\">[72]</a></sup>\n",
      "</td>\n",
      "<td><a href=\"/wiki/Falcon_9_v1.1\" title=\"Falcon 9 v1.1\">F9 v1.1</a><br/>B1013<sup class=\"reference\" id=\"cite_ref-block_numbers_14-9\"><a href=\"#cite_note-block_numbers-14\">[8]</a></sup>\n",
      "</td>\n",
      "<td><a href=\"/wiki/Cape_Canaveral_Space_Force_Station\" title=\"Cape Canaveral Space Force Station\">Cape Canaveral</a>,<br/><a href=\"/wiki/Cape_Canaveral_Space_Launch_Complex_40\" title=\"Cape Canaveral Space Launch Complex 40\">LC-40</a>\n",
      "</td>\n",
      "<td><a class=\"mw-redirect\" href=\"/wiki/DSCOVR\" title=\"DSCOVR\">DSCOVR</a><sup class=\"reference\" id=\"cite_ref-sxManifest20130731_75-1\"><a href=\"#cite_note-sxManifest20130731-75\">[68]</a></sup><sup class=\"reference\" id=\"cite_ref-80\"><a href=\"#cite_note-80\">[73]</a></sup>\n",
      "</td>\n",
      "<td>570 kg (1,260 lb)\n",
      "</td>\n",
      "<td><a href=\"/wiki/High_Earth_orbit\" title=\"High Earth orbit\">HEO</a><br/>(<a href=\"/wiki/Lagrange_point\" title=\"Lagrange point\">Sun–Earth L<sub>1</sub></a> insertion)\n",
      "</td>\n",
      "<td><link href=\"mw-data:TemplateStyles:r1126788409\" rel=\"mw-deduplicated-inline-style\"/><div class=\"plainlist\">\n",
      "<ul><li><a href=\"/wiki/United_States_Air_Force\" title=\"United States Air Force\">USAF</a></li>\n",
      "<li><a href=\"/wiki/NASA\" title=\"NASA\">NASA</a></li>\n",
      "<li><a class=\"mw-redirect\" href=\"/wiki/NOAA\" title=\"NOAA\">NOAA</a></li></ul>\n",
      "</div>\n",
      "</td>\n",
      "<td class=\"table-success\" style=\"background: #9EFF9E; vertical-align: middle; text-align: center;\">Success\n",
      "</td>\n",
      "<td class=\"partial table-partial\" style=\"background: #BFE; vertical-align: middle; text-align: center;\">Controlled<br/><small>(ocean)</small><sup class=\"reference\" id=\"cite_ref-ocean_landing_38-4\"><a href=\"#cite_note-ocean_landing-38\">[d]</a></sup>\n",
      "</td></tr>\n",
      "<tr>\n",
      "<td colspan=\"9\">First launch under USAF's <a href=\"/wiki/List_of_U.S._government_and_military_acronyms#O\" title=\"List of U.S. government and military acronyms\">OSP</a> 3 launch contract.<sup class=\"reference\" id=\"cite_ref-spx20121205_81-0\"><a href=\"#cite_note-spx20121205-81\">[74]</a></sup> First SpaceX launch to put a satellite beyond a geostationary transfer orbit, first SpaceX launch into interplanetary space, and first SpaceX launch of an American research satellite. The first stage made a test flight descent to an over-ocean landing within 10 m (33 ft) of its intended target.<sup class=\"reference\" id=\"cite_ref-MuskTweet-20150211_82-0\"><a href=\"#cite_note-MuskTweet-20150211-82\">[75]</a></sup>\n",
      "</td></tr>\n",
      "<tr>\n",
      "<th rowspan=\"2\" scope=\"row\" style=\"text-align:center;\">16\n",
      "</th>\n",
      "<td>2 March 2015,<br/>03:50<sup class=\"reference\" id=\"cite_ref-SFN_LLog_27-3\"><a href=\"#cite_note-SFN_LLog-27\">[21]</a></sup><sup class=\"reference\" id=\"cite_ref-patrickafmil02142015_83-0\"><a href=\"#cite_note-patrickafmil02142015-83\">[76]</a></sup>\n",
      "</td>\n",
      "<td><a href=\"/wiki/Falcon_9_v1.1\" title=\"Falcon 9 v1.1\">F9 v1.1</a><br/>B1014<sup class=\"reference\" id=\"cite_ref-block_numbers_14-10\"><a href=\"#cite_note-block_numbers-14\">[8]</a></sup>\n",
      "</td>\n",
      "<td><a href=\"/wiki/Cape_Canaveral_Space_Force_Station\" title=\"Cape Canaveral Space Force Station\">Cape Canaveral</a>,<br/><a href=\"/wiki/Cape_Canaveral_Space_Launch_Complex_40\" title=\"Cape Canaveral Space Launch Complex 40\">LC-40</a>\n",
      "</td>\n",
      "<td><link href=\"mw-data:TemplateStyles:r1126788409\" rel=\"mw-deduplicated-inline-style\"/><div class=\"plainlist\">\n",
      "<ul><li><a href=\"/wiki/ABS-3A\" title=\"ABS-3A\">ABS-3A</a></li>\n",
      "<li><a href=\"/wiki/Eutelsat_115_West_B\" title=\"Eutelsat 115 West B\">Eutelsat 115 West B</a><sup class=\"reference\" id=\"cite_ref-sxManifest20130731_75-2\"><a href=\"#cite_note-sxManifest20130731-75\">[68]</a></sup></li></ul>\n",
      "</div>\n",
      "</td>\n",
      "<td>4,159 kg (9,169 lb)\n",
      "</td>\n",
      "<td><a href=\"/wiki/Geostationary_transfer_orbit\" title=\"Geostationary transfer orbit\">GTO</a>\n",
      "</td>\n",
      "<td><link href=\"mw-data:TemplateStyles:r1126788409\" rel=\"mw-deduplicated-inline-style\"/><div class=\"plainlist\">\n",
      "<ul><li><a class=\"mw-redirect\" href=\"/wiki/Asia_Broadcast_Satellite\" title=\"Asia Broadcast Satellite\">ABS</a></li>\n",
      "<li><a href=\"/wiki/Eutelsat\" title=\"Eutelsat\">Eutelsat</a></li></ul>\n",
      "</div>\n",
      "</td>\n",
      "<td class=\"table-success\" style=\"background: #9EFF9E; vertical-align: middle; text-align: center;\">Success\n",
      "</td>\n",
      "<td class=\"table-noAttempt\" style=\"background: #EEE; vertical-align: middle; white-space: nowrap; text-align: center;\">No attempt<sup class=\"reference\" id=\"cite_ref-84\"><a href=\"#cite_note-84\">[77]</a></sup>\n",
      "</td></tr>\n",
      "<tr>\n",
      "<td colspan=\"9\">The launch was Boeing's first conjoined launch of a <a href=\"/wiki/Boeing_702\" title=\"Boeing 702\">lighter-weight dual-commsat stack</a> that was specifically designed to take advantage of the <a href=\"/wiki/Space_launch_market_competition\" title=\"Space launch market competition\">lower-cost</a> SpaceX Falcon 9 launch vehicle.<sup class=\"reference\" id=\"cite_ref-aw20140310_85-0\"><a href=\"#cite_note-aw20140310-85\">[78]</a></sup><sup class=\"reference\" id=\"cite_ref-boeing20141112_86-0\"><a href=\"#cite_note-boeing20141112-86\">[79]</a></sup> Per satellite, launch costs were less than US$30 million.<sup class=\"reference\" id=\"cite_ref-sfn20150302_87-0\"><a href=\"#cite_note-sfn20150302-87\">[80]</a></sup> The ABS satellite reached its final destination ahead of schedule and started operations on 10 September 2015.<sup class=\"reference\" id=\"cite_ref-boeing_88-0\"><a href=\"#cite_note-boeing-88\">[81]</a></sup>\n",
      "</td></tr>\n",
      "<tr>\n",
      "<th rowspan=\"2\" scope=\"row\" style=\"text-align:center;\">17\n",
      "</th>\n",
      "<td>14 April 2015,<br/>20:10<sup class=\"reference\" id=\"cite_ref-SFN_LLog_27-4\"><a href=\"#cite_note-SFN_LLog-27\">[21]</a></sup>\n",
      "</td>\n",
      "<td><a href=\"/wiki/Falcon_9_v1.1\" title=\"Falcon 9 v1.1\">F9 v1.1</a><br/>B1015<sup class=\"reference\" id=\"cite_ref-block_numbers_14-11\"><a href=\"#cite_note-block_numbers-14\">[8]</a></sup>\n",
      "</td>\n",
      "<td><a class=\"mw-redirect\" href=\"/wiki/Cape_Canaveral_Air_Force_Station\" title=\"Cape Canaveral Air Force Station\">Cape Canaveral</a>,<br/><a href=\"/wiki/Cape_Canaveral_Space_Launch_Complex_40\" title=\"Cape Canaveral Space Launch Complex 40\">LC-40</a>\n",
      "</td>\n",
      "<td><a href=\"/wiki/SpaceX_CRS-6\" title=\"SpaceX CRS-6\">SpaceX CRS-6</a><sup class=\"reference\" id=\"cite_ref-sxManifest20130731_75-3\"><a href=\"#cite_note-sxManifest20130731-75\">[68]</a></sup><br/>(Dragon <a href=\"/wiki/Dragon_C108\" title=\"Dragon C108\">C108.1</a>)\n",
      "</td>\n",
      "<td>1,898 kg (4,184 lb)<sup class=\"reference\" id=\"cite_ref-89\"><a href=\"#cite_note-89\">[82]</a></sup>\n",
      "</td>\n",
      "<td><a class=\"mw-redirect\" href=\"/wiki/Low_Earth_Orbit\" title=\"Low Earth Orbit\">LEO</a> (<a class=\"mw-redirect\" href=\"/wiki/ISS\" title=\"ISS\">ISS</a>)\n",
      "</td>\n",
      "<td><a href=\"/wiki/NASA\" title=\"NASA\">NASA</a> (<a href=\"/wiki/Commercial_Resupply_Services\" title=\"Commercial Resupply Services\">CRS</a>)\n",
      "</td>\n",
      "<td class=\"table-success\" style=\"background: #9EFF9E; vertical-align: middle; text-align: center;\">Success\n",
      "</td>\n",
      "<td class=\"table-failure\" style=\"background: #FFC7C7; vertical-align: middle; text-align: center;\">Failure<sup class=\"reference\" id=\"cite_ref-90\"><a href=\"#cite_note-90\">[83]</a></sup><br/><small>(drone ship)</small>\n",
      "</td></tr>\n",
      "<tr>\n",
      "<td colspan=\"9\">After second-stage separation, a controlled-descent test was attempted with the first stage. After the booster contacted the ship, it tipped over due to excess lateral velocity caused by a stuck throttle valve that delayed downthrottle at the correct time.<sup class=\"reference\" id=\"cite_ref-91\"><a href=\"#cite_note-91\">[84]</a></sup><sup class=\"reference\" id=\"cite_ref-92\"><a href=\"#cite_note-92\">[85]</a></sup>\n",
      "</td></tr>\n",
      "<tr>\n",
      "<th rowspan=\"2\" scope=\"row\" style=\"text-align:center;\">18\n",
      "</th>\n",
      "<td>27 April 2015,<br/>23:03<sup class=\"reference\" id=\"cite_ref-patrickafb20150414_93-0\"><a href=\"#cite_note-patrickafb20150414-93\">[86]</a></sup>\n",
      "</td>\n",
      "<td><a href=\"/wiki/Falcon_9_v1.1\" title=\"Falcon 9 v1.1\">F9 v1.1</a><br/>B1016<sup class=\"reference\" id=\"cite_ref-block_numbers_14-12\"><a href=\"#cite_note-block_numbers-14\">[8]</a></sup>\n",
      "</td>\n",
      "<td><a href=\"/wiki/Cape_Canaveral_Space_Force_Station\" title=\"Cape Canaveral Space Force Station\">Cape Canaveral</a>,<br/><a href=\"/wiki/Cape_Canaveral_Space_Launch_Complex_40\" title=\"Cape Canaveral Space Launch Complex 40\">LC-40</a>\n",
      "</td>\n",
      "<td><a href=\"/wiki/T%C3%BCrkmen%C3%84lem_52%C2%B0E_/_MonacoSAT\" title=\"TürkmenÄlem 52°E / MonacoSAT\">TürkmenÄlem 52°E / MonacoSAT</a><sup class=\"reference\" id=\"cite_ref-sxManifest20130731_75-4\"><a href=\"#cite_note-sxManifest20130731-75\">[68]</a></sup><sup class=\"reference\" id=\"cite_ref-turkmen-monaco_94-0\"><a href=\"#cite_note-turkmen-monaco-94\">[87]</a></sup>\n",
      "</td>\n",
      "<td>4,707 kg (10,377 lb)\n",
      "</td>\n",
      "<td><a href=\"/wiki/Geostationary_transfer_orbit\" title=\"Geostationary transfer orbit\">GTO</a>\n",
      "</td>\n",
      "<td><a href=\"/wiki/Turkmenistan_National_Space_Agency\" title=\"Turkmenistan National Space Agency\">Turkmenistan National<br/>Space Agency</a><sup class=\"reference\" id=\"cite_ref-95\"><a href=\"#cite_note-95\">[88]</a></sup>\n",
      "</td>\n",
      "<td class=\"table-success\" style=\"background: #9EFF9E; vertical-align: middle; text-align: center;\">Success\n",
      "</td>\n",
      "<td class=\"table-noAttempt\" style=\"background: #EEE; vertical-align: middle; white-space: nowrap; text-align: center;\">No attempt<sup class=\"reference\" id=\"cite_ref-96\"><a href=\"#cite_note-96\">[89]</a></sup>\n",
      "</td></tr>\n",
      "<tr>\n",
      "<td colspan=\"9\">Original intended launch was delayed over a month after an issue with the helium pressurisation system was identified on similar parts in the assembly plant.<sup class=\"reference\" id=\"cite_ref-zgn20150323_97-0\"><a href=\"#cite_note-zgn20150323-97\">[90]</a></sup> Subsequent launch successfully positioned this first Turkmen satellite at 52.0° east.\n",
      "</td></tr>\n",
      "<tr>\n",
      "<th rowspan=\"2\" scope=\"row\" style=\"text-align:center;\">19\n",
      "</th>\n",
      "<td>28 June 2015,<br/>14:21<sup class=\"reference\" id=\"cite_ref-SFN_LLog_27-5\"><a href=\"#cite_note-SFN_LLog-27\">[21]</a></sup><sup class=\"reference\" id=\"cite_ref-nasama20150520_98-0\"><a href=\"#cite_note-nasama20150520-98\">[91]</a></sup>\n",
      "</td>\n",
      "<td><a href=\"/wiki/Falcon_9_v1.1\" title=\"Falcon 9 v1.1\">F9 v1.1</a><br/>B1018<sup class=\"reference\" id=\"cite_ref-block_numbers_14-13\"><a href=\"#cite_note-block_numbers-14\">[8]</a></sup>\n",
      "</td>\n",
      "<td><a href=\"/wiki/Cape_Canaveral_Space_Force_Station\" title=\"Cape Canaveral Space Force Station\">Cape Canaveral</a>,<br/><a href=\"/wiki/Cape_Canaveral_Space_Launch_Complex_40\" title=\"Cape Canaveral Space Launch Complex 40\">LC-40</a>\n",
      "</td>\n",
      "<td><a href=\"/wiki/SpaceX_CRS-7\" title=\"SpaceX CRS-7\">SpaceX CRS-7</a><sup class=\"reference\" id=\"cite_ref-sxManifest20130731_75-5\"><a href=\"#cite_note-sxManifest20130731-75\">[68]</a></sup><br/>(Dragon C109)\n",
      "</td>\n",
      "<td>1,952 kg (4,303 lb)<sup class=\"reference\" id=\"cite_ref-99\"><a href=\"#cite_note-99\">[92]</a></sup>\n",
      "</td>\n",
      "<td><a class=\"mw-redirect\" href=\"/wiki/Low_Earth_Orbit\" title=\"Low Earth Orbit\">LEO</a> (<a class=\"mw-redirect\" href=\"/wiki/ISS\" title=\"ISS\">ISS</a>)\n",
      "</td>\n",
      "<td><a href=\"/wiki/NASA\" title=\"NASA\">NASA</a> (<a href=\"/wiki/Commercial_Resupply_Services\" title=\"Commercial Resupply Services\">CRS</a>)\n",
      "</td>\n",
      "<td class=\"table-failure\" style=\"background: #FFC7C7; vertical-align: middle; text-align: center;\">Failure<sup class=\"reference\" id=\"cite_ref-nyt-20150628_100-0\"><a href=\"#cite_note-nyt-20150628-100\">[93]</a></sup><br/><small>(in flight)</small>\n",
      "</td>\n",
      "<td style=\"background:#ececec; text-align:center;\">Precluded<sup class=\"reference\" id=\"cite_ref-101\"><a href=\"#cite_note-101\">[94]</a></sup><br/><small><span class=\"nowrap\">(drone ship)</span></small>\n",
      "</td></tr>\n",
      "<tr>\n",
      "<td colspan=\"9\">Launch performance was nominal until an overpressure incident in the second-stage <a class=\"mw-redirect\" href=\"/wiki/LOX\" title=\"LOX\">LOX</a> tank, leading to vehicle breakup at T+150 seconds. Dragon capsule survived the explosion but was lost upon splashdown as its software did not contain provisions for parachute deployment on launch vehicle failure.<sup class=\"reference\" id=\"cite_ref-nsf-20150727_102-0\"><a href=\"#cite_note-nsf-20150727-102\">[95]</a></sup><small>(<a href=\"#Loss_of_CRS-7_mission\">more details below</a>)</small> The drone ship <i>Of Course I Still Love You</i> was towed out to sea to prepare for a landing test so this mission was its first operational assignment.<sup class=\"reference\" id=\"cite_ref-nsf20150618_103-0\"><a href=\"#cite_note-nsf20150618-103\">[96]</a></sup>\n",
      "</td></tr>\n",
      "<tr>\n",
      "<th rowspan=\"2\" scope=\"row\" style=\"text-align:center;\">20\n",
      "</th>\n",
      "<td>22 December 2015,<br/>01:29<sup class=\"reference\" id=\"cite_ref-orbcomm-og2_104-0\"><a href=\"#cite_note-orbcomm-og2-104\">[97]</a></sup>\n",
      "</td>\n",
      "<td><a href=\"/wiki/Falcon_9_Full_Thrust\" title=\"Falcon 9 Full Thrust\">F9 FT</a><br/>B1019.1<sup class=\"reference\" id=\"cite_ref-flight20-booster_105-0\"><a href=\"#cite_note-flight20-booster-105\">[98]</a></sup>\n",
      "</td>\n",
      "<td><a href=\"/wiki/Cape_Canaveral_Space_Force_Station\" title=\"Cape Canaveral Space Force Station\">Cape Canaveral</a>,<br/><a href=\"/wiki/Cape_Canaveral_Space_Launch_Complex_40\" title=\"Cape Canaveral Space Launch Complex 40\">LC-40</a>\n",
      "</td>\n",
      "<td><a class=\"mw-redirect\" href=\"/wiki/Orbcomm-OG2\" title=\"Orbcomm-OG2\">Orbcomm-OG2</a>-2<br/>(11 satellites)<sup class=\"reference\" id=\"cite_ref-sxManifest20120925_28-10\"><a href=\"#cite_note-sxManifest20120925-28\">[22]</a></sup><sup class=\"reference\" id=\"cite_ref-orbcomm-og2_104-1\"><a href=\"#cite_note-orbcomm-og2-104\">[97]</a></sup>\n",
      "</td>\n",
      "<td>2,034 kg (4,484 lb)\n",
      "</td>\n",
      "<td><a class=\"mw-redirect\" href=\"/wiki/Low_Earth_Orbit\" title=\"Low Earth Orbit\">LEO</a>\n",
      "</td>\n",
      "<td><a href=\"/wiki/Orbcomm\" title=\"Orbcomm\">Orbcomm</a>\n",
      "</td>\n",
      "<td class=\"table-success\" style=\"background: #9EFF9E; vertical-align: middle; text-align: center;\">Success\n",
      "</td>\n",
      "<td class=\"table-success\" style=\"background: #9EFF9E; vertical-align: middle; text-align: center;\">Success<sup class=\"reference\" id=\"cite_ref-flight20-landing_106-0\"><a href=\"#cite_note-flight20-landing-106\">[99]</a></sup><br/><small><span class=\"nowrap\">(ground pad)</span></small>\n",
      "</td></tr>\n",
      "<tr>\n",
      "<td colspan=\"9\">Payload included eleven satellites weighing 172 kg (379 lb) each,<sup class=\"reference\" id=\"cite_ref-gunter-og2_30-2\"><a href=\"#cite_note-gunter-og2-30\">[24]</a></sup> and a 142 kg (313 lb) mass simulator.<sup class=\"reference\" id=\"cite_ref-gunter-og2-sim_59-1\"><a href=\"#cite_note-gunter-og2-sim-59\">[52]</a></sup> First launch of the upgraded v1.1 version, with a 30% power increase.<sup class=\"reference\" id=\"cite_ref-sn20151016_107-0\"><a href=\"#cite_note-sn20151016-107\">[100]</a></sup> Orbcomm had originally agreed to be the third flight of the enhanced-thrust rocket,<sup class=\"reference\" id=\"cite_ref-sn20150508_108-0\"><a href=\"#cite_note-sn20150508-108\">[101]</a></sup> but the change to the maiden flight position was announced in October 2015.<sup class=\"reference\" id=\"cite_ref-sn20151016_107-1\"><a href=\"#cite_note-sn20151016-107\">[100]</a></sup> SpaceX received a permit from the <a class=\"mw-redirect\" href=\"/wiki/FAA\" title=\"FAA\">FAA</a> to land the booster <a href=\"/wiki/Landing_Zones_1_and_2\" title=\"Landing Zones 1 and 2\">on solid ground</a> at <a href=\"/wiki/Cape_Canaveral_Space_Force_Station\" title=\"Cape Canaveral Space Force Station\">Cape Canaveral</a><sup class=\"reference\" id=\"cite_ref-109\"><a href=\"#cite_note-109\">[102]</a></sup> and succeeded for the first time.<sup class=\"reference\" id=\"cite_ref-flight20-landing_106-1\"><a href=\"#cite_note-flight20-landing-106\">[99]</a></sup> This booster, serial number <a class=\"mw-redirect\" href=\"/wiki/B1019\" title=\"B1019\">B1019</a>, is now on permanent display outside SpaceX's headquarters in <a href=\"/wiki/Hawthorne,_California\" title=\"Hawthorne, California\">Hawthorne, California</a>, at the intersection of Crenshaw Boulevard and Jack Northrop Avenue.<sup class=\"reference\" id=\"cite_ref-flight20-booster_105-1\"><a href=\"#cite_note-flight20-booster-105\">[98]</a></sup> <small>(<a href=\"#Full-thrust_version_and_first_booster_landings\">more details below</a>)</small>\n",
      "</td></tr></tbody></table>\n"
     ]
    }
   ],
   "source": [
    "# Let's print the third table and check its content\n",
    "first_launch_table = html_tables[2]\n",
    "print(first_launch_table)"
   ]
  },
  {
   "cell_type": "markdown",
   "metadata": {},
   "source": [
    "You should able to see the columns names embedded in the table header elements `<th>` as follows:\n"
   ]
  },
  {
   "cell_type": "markdown",
   "metadata": {},
   "source": [
    "```\n",
    "<tr>\n",
    "<th scope=\"col\">Flight No.\n",
    "</th>\n",
    "<th scope=\"col\">Date and<br/>time (<a href=\"/wiki/Coordinated_Universal_Time\" title=\"Coordinated Universal Time\">UTC</a>)\n",
    "</th>\n",
    "<th scope=\"col\"><a href=\"/wiki/List_of_Falcon_9_first-stage_boosters\" title=\"List of Falcon 9 first-stage boosters\">Version,<br/>Booster</a> <sup class=\"reference\" id=\"cite_ref-booster_11-0\"><a href=\"#cite_note-booster-11\">[b]</a></sup>\n",
    "</th>\n",
    "<th scope=\"col\">Launch site\n",
    "</th>\n",
    "<th scope=\"col\">Payload<sup class=\"reference\" id=\"cite_ref-Dragon_12-0\"><a href=\"#cite_note-Dragon-12\">[c]</a></sup>\n",
    "</th>\n",
    "<th scope=\"col\">Payload mass\n",
    "</th>\n",
    "<th scope=\"col\">Orbit\n",
    "</th>\n",
    "<th scope=\"col\">Customer\n",
    "</th>\n",
    "<th scope=\"col\">Launch<br/>outcome\n",
    "</th>\n",
    "<th scope=\"col\"><a href=\"/wiki/Falcon_9_first-stage_landing_tests\" title=\"Falcon 9 first-stage landing tests\">Booster<br/>landing</a>\n",
    "</th></tr>\n",
    "```\n"
   ]
  },
  {
   "cell_type": "markdown",
   "metadata": {},
   "source": [
    "Next, we just need to iterate through the `<th>` elements and apply the provided `extract_column_from_header()` to extract column name one by one\n"
   ]
  },
  {
   "cell_type": "code",
   "execution_count": 14,
   "metadata": {
    "tags": []
   },
   "outputs": [
    {
     "ename": "KeyError",
     "evalue": "'Date and time ( )'",
     "output_type": "error",
     "traceback": [
      "\u001b[0;31m---------------------------------------------------------------------------\u001b[0m",
      "\u001b[0;31mKeyError\u001b[0m                                  Traceback (most recent call last)",
      "\u001b[0;32m/tmp/ipykernel_946/1190398218.py\u001b[0m in \u001b[0;36m<module>\u001b[0;34m\u001b[0m\n\u001b[1;32m     10\u001b[0m \u001b[0;34m\u001b[0m\u001b[0m\n\u001b[1;32m     11\u001b[0m \u001b[0;31m# Remove an irrelevant column\u001b[0m\u001b[0;34m\u001b[0m\u001b[0;34m\u001b[0m\u001b[0;34m\u001b[0m\u001b[0m\n\u001b[0;32m---> 12\u001b[0;31m \u001b[0;32mdel\u001b[0m \u001b[0mlaunch_dict\u001b[0m\u001b[0;34m[\u001b[0m\u001b[0;34m\"Date and time ( )\"\u001b[0m\u001b[0;34m]\u001b[0m\u001b[0;34m\u001b[0m\u001b[0;34m\u001b[0m\u001b[0m\n\u001b[0m\u001b[1;32m     13\u001b[0m \u001b[0;34m\u001b[0m\u001b[0m\n\u001b[1;32m     14\u001b[0m \u001b[0;31m# Initialize the launch_dict with each value to be an empty list\u001b[0m\u001b[0;34m\u001b[0m\u001b[0;34m\u001b[0m\u001b[0;34m\u001b[0m\u001b[0m\n",
      "\u001b[0;31mKeyError\u001b[0m: 'Date and time ( )'"
     ]
    }
   ],
   "source": [
    "column_names = []\n",
    "\n",
    "# Apply find_all() function with `th` element on first_launch_table\n",
    "# Iterate each th element and apply the provided extract_column_from_header() to get a column name\n",
    "# Append the Non-empty column name (`if name is not None and len(name) > 0`) into a list called column_names\n",
    "import pandas as pd\n",
    "\n",
    "# Create an empty dictionary with keys from the extracted column names\n",
    "launch_dict = dict.fromkeys(column_names)\n",
    "\n",
    "# Remove an irrelevant column\n",
    "del launch_dict[\"Date and time ( )\"]\n",
    "\n",
    "# Initialize the launch_dict with each value to be an empty list\n",
    "for key in launch_dict.keys():\n",
    "    launch_dict[key] = []\n",
    "\n",
    "# Extract launch records from table rows\n",
    "for table in html_tables:\n",
    "    for row in table.find_all(\"tr\"):\n",
    "        # Check if the row is a table header\n",
    "        if row.th:\n",
    "            # If the row is a table header, get the flight number\n",
    "            flight_number = row.th.text.strip()\n",
    "\n",
    "        # Check if the row is a data row\n",
    "        elif row.td:\n",
    "            # If the row is a data row, get the launch record values\n",
    "            launch_record = []\n",
    "            for td in row.find_all(\"td\"):\n",
    "                launch_record.append(td.text.strip())\n",
    "\n",
    "            # Append the launch record to the launch_dict\n",
    "            launch_dict[\"Flight No.\"].append(flight_number)\n",
    "            launch_dict[\"Launch site\"].append(launch_record[0])\n",
    "            launch_dict[\"Payload\"].append(launch_record[1])\n",
    "            launch_dict[\"Payload mass\"].append(launch_record[2])\n",
    "            launch_dict[\"Orbit\"].append(launch_record[3])\n",
    "            launch_dict[\"Customer\"].append(launch_record[4])\n",
    "            launch_dict[\"Launch outcome\"].append(launch_record[5])\n",
    "            launch_dict[\"Booster landing\"].append(launch_record[6])\n",
    "\n",
    "# Create a Pandas DataFrame from the launch_dict\n",
    "df = pd.DataFrame.from_dict(launch_dict)\n",
    "\n",
    "# Export the DataFrame to a CSV file\n",
    "df.to_csv(\"spacex_web_scraped.csv\", index=False)"
   ]
  },
  {
   "cell_type": "markdown",
   "metadata": {},
   "source": [
    "Check the extracted column names\n"
   ]
  },
  {
   "cell_type": "code",
   "execution_count": 15,
   "metadata": {
    "tags": []
   },
   "outputs": [
    {
     "name": "stdout",
     "output_type": "stream",
     "text": [
      "[]\n"
     ]
    }
   ],
   "source": [
    "print(column_names)"
   ]
  },
  {
   "cell_type": "markdown",
   "metadata": {},
   "source": [
    "## TASK 3: Create a data frame by parsing the launch HTML tables\n"
   ]
  },
  {
   "cell_type": "markdown",
   "metadata": {},
   "source": [
    "We will create an empty dictionary with keys from the extracted column names in the previous task. Later, this dictionary will be converted into a Pandas dataframe\n"
   ]
  },
  {
   "cell_type": "code",
   "execution_count": 16,
   "metadata": {
    "tags": []
   },
   "outputs": [
    {
     "ename": "KeyError",
     "evalue": "'Date and time ( )'",
     "output_type": "error",
     "traceback": [
      "\u001b[0;31m---------------------------------------------------------------------------\u001b[0m",
      "\u001b[0;31mKeyError\u001b[0m                                  Traceback (most recent call last)",
      "\u001b[0;32m/tmp/ipykernel_946/1229833708.py\u001b[0m in \u001b[0;36m<module>\u001b[0;34m\u001b[0m\n\u001b[1;32m      2\u001b[0m \u001b[0;34m\u001b[0m\u001b[0m\n\u001b[1;32m      3\u001b[0m \u001b[0;31m# Remove an irrelvant column\u001b[0m\u001b[0;34m\u001b[0m\u001b[0;34m\u001b[0m\u001b[0;34m\u001b[0m\u001b[0m\n\u001b[0;32m----> 4\u001b[0;31m \u001b[0;32mdel\u001b[0m \u001b[0mlaunch_dict\u001b[0m\u001b[0;34m[\u001b[0m\u001b[0;34m'Date and time ( )'\u001b[0m\u001b[0;34m]\u001b[0m\u001b[0;34m\u001b[0m\u001b[0;34m\u001b[0m\u001b[0m\n\u001b[0m\u001b[1;32m      5\u001b[0m \u001b[0;34m\u001b[0m\u001b[0m\n\u001b[1;32m      6\u001b[0m \u001b[0;31m# Let's initial the launch_dict with each value to be an empty list\u001b[0m\u001b[0;34m\u001b[0m\u001b[0;34m\u001b[0m\u001b[0;34m\u001b[0m\u001b[0m\n",
      "\u001b[0;31mKeyError\u001b[0m: 'Date and time ( )'"
     ]
    }
   ],
   "source": [
    "launch_dict= dict.fromkeys(column_names)\n",
    "\n",
    "# Remove an irrelvant column\n",
    "del launch_dict['Date and time ( )']\n",
    "\n",
    "# Let's initial the launch_dict with each value to be an empty list\n",
    "launch_dict['Flight No.'] = []\n",
    "launch_dict['Launch site'] = []\n",
    "launch_dict['Payload'] = []\n",
    "launch_dict['Payload mass'] = []\n",
    "launch_dict['Orbit'] = []\n",
    "launch_dict['Customer'] = []\n",
    "launch_dict['Launch outcome'] = []\n",
    "# Added some new columns\n",
    "launch_dict['Version Booster']=[]\n",
    "launch_dict['Booster landing']=[]\n",
    "launch_dict['Date']=[]\n",
    "launch_dict['Time']=[]"
   ]
  },
  {
   "cell_type": "markdown",
   "metadata": {},
   "source": [
    "Next, we just need to fill up the `launch_dict` with launch records extracted from table rows.\n"
   ]
  },
  {
   "cell_type": "markdown",
   "metadata": {},
   "source": [
    "Usually, HTML tables in Wiki pages are likely to contain unexpected annotations and other types of noises, such as reference links `B0004.1[8]`, missing values `N/A [e]`, inconsistent formatting, etc.\n"
   ]
  },
  {
   "cell_type": "markdown",
   "metadata": {},
   "source": [
    "To simplify the parsing process, we have provided an incomplete code snippet below to help you to fill up the `launch_dict`. Please complete the following code snippet with TODOs or you can choose to write your own logic to parse all launch tables:\n"
   ]
  },
  {
   "cell_type": "code",
   "execution_count": 17,
   "metadata": {
    "tags": []
   },
   "outputs": [
    {
     "name": "stdout",
     "output_type": "stream",
     "text": [
      "F9 v1.0B0003.1\n",
      "F9 v1.0B0004.1\n",
      "F9 v1.0B0005.1\n",
      "F9 v1.0B0006.1\n",
      "F9 v1.0B0007.1\n",
      "F9 v1.1B1003\n",
      "F9 v1.1\n",
      "F9 v1.1\n",
      "F9 v1.1\n",
      "F9 v1.1\n",
      "F9 v1.1\n",
      "F9 v1.1\n",
      "F9 v1.1\n",
      "F9 v1.1\n",
      "F9 v1.1\n",
      "F9 v1.1\n",
      "F9 v1.1\n",
      "F9 v1.1\n",
      "F9 v1.1\n",
      "F9 FT\n",
      "F9 v1.1\n",
      "F9 FT\n",
      "F9 FT\n",
      "F9 FT\n",
      "F9 FT\n",
      "F9 FT\n",
      "F9 FT\n",
      "F9 FT\n",
      "F9 FT\n",
      "F9 FT\n",
      "F9 FT\n",
      "F9 FT♺\n",
      "F9 FT\n",
      "F9 FT\n",
      "F9 FT\n",
      "F9 FTB1029.2\n",
      "F9 FT\n",
      "F9 FT\n",
      "F9 B4\n",
      "F9 FT\n",
      "F9 B4\n",
      "F9 B4\n",
      "F9 FTB1031.2\n",
      "F9 B4\n",
      "F9 FTB1035.2\n",
      "F9 FTB1036.2\n",
      "F9 B4\n",
      "F9 FTB1032.2\n",
      "F9 FTB1038.2\n",
      "F9 B4\n",
      "F9 B4B1041.2\n",
      "F9 B4B1039.2\n",
      "F9 B4\n",
      "F9 B5B1046.1\n",
      "F9 B4B1043.2\n",
      "F9 B4B1040.2\n",
      "F9 B4B1045.2\n",
      "F9 B5\n",
      "F9 B5B1048\n",
      "F9 B5B1046.2\n",
      "F9 B5\n",
      "F9 B5B1048.2\n",
      "F9 B5B1047.2\n",
      "F9 B5B1046.3\n",
      "F9 B5\n",
      "F9 B5\n",
      "F9 B5B1049.2\n",
      "F9 B5B1048.3\n",
      "F9 B5[268]\n",
      "F9 B5\n",
      "F9 B5B1049.3\n",
      "F9 B5B1051.2\n",
      "F9 B5B1056.2\n",
      "F9 B5B1047.3\n",
      "F9 B5\n",
      "F9 B5\n",
      "F9 B5B1056.3\n",
      "F9 B5\n",
      "F9 B5\n",
      "F9 B5\n",
      "F9 B5\n",
      "F9 B5\n",
      "F9 B5\n",
      "F9 B5\n",
      "F9 B5\n",
      "F9 B5\n",
      "F9 B5\n",
      "F9 B5\n",
      "F9 B5B1058.2\n",
      "F9 B5\n",
      "F9 B5B1049.6\n",
      "F9 B5\n",
      "F9 B5B1060.2\n",
      "F9 B5B1058.3\n",
      "F9 B5B1051.6\n",
      "F9 B5\n",
      "F9 B5\n",
      "F9 B5\n",
      "F9 B5\n",
      "F9 B5 ♺\n",
      "F9 B5 ♺\n",
      "F9 B5 ♺\n",
      "F9 B5 ♺\n",
      "F9 B5\n",
      "F9 B5B1051.8\n",
      "F9 B5B1058.5\n"
     ]
    },
    {
     "ename": "AttributeError",
     "evalue": "'NoneType' object has no attribute 'string'",
     "output_type": "error",
     "traceback": [
      "\u001b[0;31m---------------------------------------------------------------------------\u001b[0m",
      "\u001b[0;31mAttributeError\u001b[0m                            Traceback (most recent call last)",
      "\u001b[0;32m/tmp/ipykernel_946/354354048.py\u001b[0m in \u001b[0;36m<module>\u001b[0;34m\u001b[0m\n\u001b[1;32m     60\u001b[0m             \u001b[0;31m# Customer\u001b[0m\u001b[0;34m\u001b[0m\u001b[0;34m\u001b[0m\u001b[0;34m\u001b[0m\u001b[0m\n\u001b[1;32m     61\u001b[0m             \u001b[0;31m# TODO: Append the customer into launch_dict with key `Customer`\u001b[0m\u001b[0;34m\u001b[0m\u001b[0;34m\u001b[0m\u001b[0;34m\u001b[0m\u001b[0m\n\u001b[0;32m---> 62\u001b[0;31m             \u001b[0mcustomer\u001b[0m \u001b[0;34m=\u001b[0m \u001b[0mrow\u001b[0m\u001b[0;34m[\u001b[0m\u001b[0;36m6\u001b[0m\u001b[0;34m]\u001b[0m\u001b[0;34m.\u001b[0m\u001b[0ma\u001b[0m\u001b[0;34m.\u001b[0m\u001b[0mstring\u001b[0m\u001b[0;34m\u001b[0m\u001b[0;34m\u001b[0m\u001b[0m\n\u001b[0m\u001b[1;32m     63\u001b[0m             \u001b[0;31m#print(customer)\u001b[0m\u001b[0;34m\u001b[0m\u001b[0;34m\u001b[0m\u001b[0;34m\u001b[0m\u001b[0m\n\u001b[1;32m     64\u001b[0m \u001b[0;34m\u001b[0m\u001b[0m\n",
      "\u001b[0;31mAttributeError\u001b[0m: 'NoneType' object has no attribute 'string'"
     ]
    }
   ],
   "source": [
    "extracted_row = 0\n",
    "#Extract each table \n",
    "for table_number,table in enumerate(soup.find_all('table',\"wikitable plainrowheaders collapsible\")):\n",
    "   # get table row \n",
    "    for rows in table.find_all(\"tr\"):\n",
    "        #check to see if first table heading is as number corresponding to launch a number \n",
    "        if rows.th:\n",
    "            if rows.th.string:\n",
    "                flight_number=rows.th.string.strip()\n",
    "                flag=flight_number.isdigit()\n",
    "        else:\n",
    "            flag=False\n",
    "        #get table element \n",
    "        row=rows.find_all('td')\n",
    "        #if it is number save cells in a dictonary \n",
    "        if flag:\n",
    "            extracted_row += 1\n",
    "            # Flight Number value\n",
    "            # TODO: Append the flight_number into launch_dict with key `Flight No.`\n",
    "            #print(flight_number)\n",
    "            datatimelist=date_time(row[0])\n",
    "            \n",
    "            # Date value\n",
    "            # TODO: Append the date into launch_dict with key `Date`\n",
    "            date = datatimelist[0].strip(',')\n",
    "            #print(date)\n",
    "            \n",
    "            # Time value\n",
    "            # TODO: Append the time into launch_dict with key `Time`\n",
    "            time = datatimelist[1]\n",
    "            #print(time)\n",
    "              \n",
    "            # Booster version\n",
    "            # TODO: Append the bv into launch_dict with key `Version Booster`\n",
    "            bv=booster_version(row[1])\n",
    "            if not(bv):\n",
    "                bv=row[1].a.string\n",
    "            print(bv)\n",
    "            \n",
    "            # Launch Site\n",
    "            # TODO: Append the bv into launch_dict with key `Launch Site`\n",
    "            launch_site = row[2].a.string\n",
    "            #print(launch_site)\n",
    "            \n",
    "            # Payload\n",
    "            # TODO: Append the payload into launch_dict with key `Payload`\n",
    "            payload = row[3].a.string\n",
    "            #print(payload)\n",
    "            \n",
    "            # Payload Mass\n",
    "            # TODO: Append the payload_mass into launch_dict with key `Payload mass`\n",
    "            payload_mass = get_mass(row[4])\n",
    "            #print(payload)\n",
    "            \n",
    "            # Orbit\n",
    "            # TODO: Append the orbit into launch_dict with key `Orbit`\n",
    "            orbit = row[5].a.string\n",
    "            #print(orbit)\n",
    "            \n",
    "            # Customer\n",
    "            # TODO: Append the customer into launch_dict with key `Customer`\n",
    "            customer = row[6].a.string\n",
    "            #print(customer)\n",
    "            \n",
    "            # Launch outcome\n",
    "            # TODO: Append the launch_outcome into launch_dict with key `Launch outcome`\n",
    "            launch_outcome = list(row[7].strings)[0]\n",
    "            #print(launch_outcome)\n",
    "            \n",
    "            # Booster landing\n",
    "            # TODO: Append the launch_outcome into launch_dict with key `Booster landing`\n",
    "            booster_landing = landing_status(row[8])\n",
    "            #print(booster_landing)\n",
    "            "
   ]
  },
  {
   "cell_type": "markdown",
   "metadata": {},
   "source": [
    "After you have fill in the parsed launch record values into `launch_dict`, you can create a dataframe from it.\n"
   ]
  },
  {
   "cell_type": "code",
   "execution_count": null,
   "metadata": {},
   "outputs": [],
   "source": [
    "df= pd.DataFrame({ key:pd.Series(value) for key, value in launch_dict.items() })"
   ]
  },
  {
   "cell_type": "markdown",
   "metadata": {},
   "source": [
    "We can now export it to a <b>CSV</b> for the next section, but to make the answers consistent and in case you have difficulties finishing this lab. \n",
    "\n",
    "Following labs will be using a provided dataset to make each lab independent. \n"
   ]
  },
  {
   "cell_type": "markdown",
   "metadata": {},
   "source": [
    "<code>df.to_csv('spacex_web_scraped.csv', index=False)</code>\n"
   ]
  },
  {
   "cell_type": "markdown",
   "metadata": {},
   "source": [
    "## Authors\n"
   ]
  },
  {
   "cell_type": "markdown",
   "metadata": {},
   "source": [
    "<a href=\"https://www.linkedin.com/in/yan-luo-96288783/\">Yan Luo</a>\n"
   ]
  },
  {
   "cell_type": "markdown",
   "metadata": {},
   "source": [
    "<a href=\"https://www.linkedin.com/in/nayefaboutayoun/\">Nayef Abou Tayoun</a>\n"
   ]
  },
  {
   "cell_type": "markdown",
   "metadata": {},
   "source": [
    "## Change Log\n"
   ]
  },
  {
   "cell_type": "markdown",
   "metadata": {},
   "source": [
    "| Date (YYYY-MM-DD) | Version | Changed By | Change Description      |\n",
    "| ----------------- | ------- | ---------- | ----------------------- |\n",
    "| 2021-06-09        | 1.0     | Yan Luo    | Tasks updates           |\n",
    "| 2020-11-10        | 1.0     | Nayef      | Created the initial version |\n"
   ]
  },
  {
   "cell_type": "markdown",
   "metadata": {},
   "source": [
    "Copyright © 2021 IBM Corporation. All rights reserved.\n"
   ]
  }
 ],
 "metadata": {
  "kernelspec": {
   "display_name": "Python",
   "language": "python",
   "name": "conda-env-python-py"
  },
  "language_info": {
   "codemirror_mode": {
    "name": "ipython",
    "version": 3
   },
   "file_extension": ".py",
   "mimetype": "text/x-python",
   "name": "python",
   "nbconvert_exporter": "python",
   "pygments_lexer": "ipython3",
   "version": "3.7.12"
  }
 },
 "nbformat": 4,
 "nbformat_minor": 4
}
