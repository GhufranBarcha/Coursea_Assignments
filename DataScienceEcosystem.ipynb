{
 "cells": [
  {
   "cell_type": "code",
   "execution_count": 1,
   "id": "121aa048",
   "metadata": {},
   "outputs": [],
   "source": [
    "## Exercise 2: Create a markdown cell with the title of the notebook"
   ]
  },
  {
   "cell_type": "markdown",
   "id": "c7670db5",
   "metadata": {},
   "source": [
    "# Data Science Tools and Ecosystem"
   ]
  },
  {
   "cell_type": "code",
   "execution_count": null,
   "id": "b61bd1e6",
   "metadata": {},
   "outputs": [],
   "source": [
    "## Exercise 3: Create a markdown cell for an introduction"
   ]
  },
  {
   "cell_type": "markdown",
   "id": "72715f0e",
   "metadata": {},
   "source": [
    "In this notebook, Data Science Tools and Ecosystem are summarized.\n"
   ]
  },
  {
   "cell_type": "code",
   "execution_count": 3,
   "id": "72cc7534",
   "metadata": {},
   "outputs": [],
   "source": [
    "## Exercise 4: Create a markdown cell to list data science languages"
   ]
  },
  {
   "cell_type": "markdown",
   "id": "5dec2728",
   "metadata": {},
   "source": [
    "Some of the popular languages that Data Scientists use are:\n",
    "1. Python\n",
    "2. R\n",
    "3. Julia"
   ]
  },
  {
   "cell_type": "code",
   "execution_count": 4,
   "id": "49dfd67a",
   "metadata": {},
   "outputs": [],
   "source": [
    "## Exercise 5: Create a markdown cell to list data science libraries"
   ]
  },
  {
   "cell_type": "markdown",
   "id": "255556c5",
   "metadata": {},
   "source": [
    "Some of the commonly used libraries used by Data Scientists include:\n",
    "1. NumPy\n",
    "2. Pandas\n",
    "3. Matplotlib"
   ]
  },
  {
   "cell_type": "code",
   "execution_count": 6,
   "id": "716c261e",
   "metadata": {},
   "outputs": [],
   "source": [
    "## Exercise 6: Create a markdown cell with a table of Data Science tools"
   ]
  },
  {
   "cell_type": "markdown",
   "id": "0e5bf999",
   "metadata": {},
   "source": [
    "| Data Science Tools |\n",
    "|-------------------|\n",
    "| Jupyter Notebook  |\n",
    "| PyCharm           |\n",
    "| RStudio           |"
   ]
  },
  {
   "cell_type": "code",
   "execution_count": 7,
   "id": "2155cf8c",
   "metadata": {},
   "outputs": [],
   "source": [
    "## Exercise 7: Create a markdown cell introducing arithmetic expression examples"
   ]
  },
  {
   "cell_type": "markdown",
   "id": "60fdd64e",
   "metadata": {},
   "source": [
    "### Examples of Arithmetic Expressions\n",
    "Below are a few examples of evaluating arithmetic expressions in Python."
   ]
  },
  {
   "cell_type": "code",
   "execution_count": 9,
   "id": "d793dbf6",
   "metadata": {},
   "outputs": [],
   "source": [
    "## Exercise 10: Insert a markdown cell to list Objectives"
   ]
  },
  {
   "cell_type": "markdown",
   "id": "7cdb5548",
   "metadata": {},
   "source": [
    "**Objectives:**\n",
    "- List popular languages for Data Science\n",
    "- Identify common libraries used in Data Science\n",
    "- Understand the Data Science ecosystem"
   ]
  },
  {
   "cell_type": "code",
   "execution_count": 11,
   "id": "38b68b1e",
   "metadata": {},
   "outputs": [],
   "source": [
    "## Exercise 11: Create a markdown cell to indicate the Author's name"
   ]
  },
  {
   "cell_type": "markdown",
   "id": "42d5d98b",
   "metadata": {},
   "source": [
    "## Author\n",
    "Ghufran Ahmed Barcha"
   ]
  },
  {
   "cell_type": "code",
   "execution_count": null,
   "id": "fcf142dd",
   "metadata": {},
   "outputs": [],
   "source": []
  }
 ],
 "metadata": {
  "kernelspec": {
   "display_name": "Python 3 (ipykernel)",
   "language": "python",
   "name": "python3"
  },
  "language_info": {
   "codemirror_mode": {
    "name": "ipython",
    "version": 3
   },
   "file_extension": ".py",
   "mimetype": "text/x-python",
   "name": "python",
   "nbconvert_exporter": "python",
   "pygments_lexer": "ipython3",
   "version": "3.10.9"
  }
 },
 "nbformat": 4,
 "nbformat_minor": 5
}
